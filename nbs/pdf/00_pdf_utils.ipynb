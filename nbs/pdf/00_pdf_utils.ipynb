{
 "cells": [
  {
   "cell_type": "markdown",
   "metadata": {},
   "source": [
    "# Utils\n"
   ]
  },
  {
   "cell_type": "code",
   "execution_count": null,
   "metadata": {},
   "outputs": [],
   "source": [
    "# | default_exp pdf.utils\n"
   ]
  },
  {
   "cell_type": "code",
   "execution_count": null,
   "metadata": {},
   "outputs": [],
   "source": [
    "# | export\n",
    "\n",
    "from dreamai.imports import *\n",
    "from langchain_ray.imports import *\n",
    "from langchain_ray.utils import *\n",
    "from langchain_ray.chains import *\n"
   ]
  },
  {
   "cell_type": "code",
   "execution_count": null,
   "metadata": {},
   "outputs": [],
   "source": [
    "#| hide\n",
    "\n",
    "%load_ext autoreload\n",
    "%autoreload 2\n",
    "%reload_ext autoreload"
   ]
  },
  {
   "cell_type": "code",
   "execution_count": null,
   "metadata": {},
   "outputs": [],
   "source": [
    "# | export\n",
    "\n",
    "\n",
    "def pdf_files(pdf_folder):\n",
    "    return get_files(pdf_folder, extensions=[\".pdf\"])\n",
    "\n",
    "\n",
    "def pdf_docs(pdf, splitter, proc=True):\n",
    "    docs = PyPDFLoader(str(pdf)).load_and_split(text_splitter=splitter)\n",
    "    if proc:\n",
    "        docs = [proc_doc_text(doc) for doc in docs]\n",
    "    return docs\n",
    "\n",
    "\n",
    "def pdf_to_docs(\n",
    "    path,\n",
    "    splitter=None,\n",
    "    chunk_size=200,\n",
    "    chunk_overlap=60,\n",
    "    separators=[\"\\n\\n\", \"\\n\", \"(?<=\\. )\", \" \", \"\"],\n",
    "    add_start_index=True,\n",
    "    proc=True,\n",
    "):\n",
    "    if splitter is None:\n",
    "        splitter = RecursiveCharacterTextSplitter(\n",
    "            chunk_size=chunk_size,\n",
    "            chunk_overlap=chunk_overlap,\n",
    "            separators=separators,\n",
    "            add_start_index=add_start_index,\n",
    "        )\n",
    "    docs = []\n",
    "    for pdf in resolve_data_path(path):\n",
    "        if Path(pdf).suffix == \".pdf\":\n",
    "            d = pdf_docs(pdf, splitter=splitter, proc=proc)\n",
    "            if len(d) > 0:\n",
    "                docs.append(d)\n",
    "    return docs\n",
    "\n",
    "\n",
    "def text_cat(\n",
    "    text,\n",
    "    cats_model,\n",
    "    thresh=0.6,\n",
    "    classes=[\"Work Experience\", \"Education\", \"Certifications\", \"Other\"],\n",
    "    other_class=\"Other\",\n",
    "):\n",
    "    if other_class not in classes:\n",
    "        classes.append(other_class)\n",
    "    ot_id = classes.index(other_class)\n",
    "    probs, ids = cats_model.predict_proba(text).detach().cpu().max(1)\n",
    "    ids[probs < thresh] = ot_id\n",
    "    pred_classes = np.array(classes)[ids]\n",
    "    return pred_classes.tolist()\n",
    "\n",
    "\n",
    "def docs_to_cats(docs, cats_model):\n",
    "    return text_cat([doc.page_content for doc in docs], cats_model)\n",
    "\n",
    "\n",
    "def add_cats_to_docs(docs, cats_model, key=\"category\"):\n",
    "    fn = partial(docs_to_cats, cats_model=cats_model)\n",
    "    return add_docs_metadata(docs, fn, key)\n"
   ]
  },
  {
   "cell_type": "code",
   "execution_count": null,
   "metadata": {},
   "outputs": [],
   "source": [
    "# | hide\n",
    "import nbdev\n",
    "\n",
    "nbdev.nbdev_export()\n"
   ]
  }
 ],
 "metadata": {
  "kernelspec": {
   "display_name": "python3",
   "language": "python",
   "name": "python3"
  }
 },
 "nbformat": 4,
 "nbformat_minor": 4
}

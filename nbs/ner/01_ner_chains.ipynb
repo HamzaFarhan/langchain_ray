{
 "cells": [
  {
   "cell_type": "markdown",
   "metadata": {},
   "source": [
    "# Chains\n",
    "\n",
    "> Chains-based functions for NER."
   ]
  },
  {
   "cell_type": "code",
   "execution_count": null,
   "metadata": {},
   "outputs": [],
   "source": [
    "# | default_exp ner.chains\n"
   ]
  },
  {
   "cell_type": "code",
   "execution_count": null,
   "metadata": {},
   "outputs": [],
   "source": [
    "# | export\n",
    "\n",
    "from langchain_ray.imports import *\n",
    "from langchain_ray.chains import *\n",
    "from langchain_ray.utils import *\n",
    "from langchain_ray.pdf.utils import *\n",
    "from langchain_ray.pdf.chains import *\n",
    "from langchain_ray.ner.utils import *\n"
   ]
  },
  {
   "cell_type": "code",
   "execution_count": null,
   "metadata": {},
   "outputs": [],
   "source": [
    "#| hide\n",
    "\n",
    "%load_ext autoreload\n",
    "%autoreload 2\n",
    "%reload_ext autoreload"
   ]
  },
  {
   "cell_type": "code",
   "execution_count": null,
   "metadata": {},
   "outputs": [],
   "source": [
    "# | export\n",
    "\n",
    "\n",
    "def add_ners_to_docs_chain(\n",
    "    e_ner,\n",
    "    j_ner,\n",
    "    input_variables=[\"docs\"],\n",
    "    output_variables=[\"ner_docs\"],\n",
    "    verbose=False,\n",
    "):\n",
    "    \"Chain that adds the NERs to a list of `Documents` usung `e_ner` and `j_ner`.\"\n",
    "    return transform_chain(\n",
    "        add_ners_to_docs,\n",
    "        transform_kwargs=dict(e_ner=e_ner, j_ner=j_ner),\n",
    "        input_variables=input_variables,\n",
    "        output_variables=output_variables,\n",
    "        vars_kwargs_mapping={input_variables[0]: \"docs\"},\n",
    "        verbose=verbose,\n",
    "    )"
   ]
  },
  {
   "cell_type": "code",
   "execution_count": null,
   "metadata": {},
   "outputs": [],
   "source": [
    "# | eval: false\n",
    "\n",
    "device = default_device()\n",
    "verbose = True\n",
    "cats_model = SetFitModel.from_pretrained(\"HamzaFarhan/PDFSegs\").to(device)\n",
    "cats_folder = \"/media/hamza/data2/faiss_data/saved_cats\"\n",
    "if os.path.exists(cats_folder):\n",
    "    shutil.rmtree(cats_folder)\n",
    "cats_folder = \"gs://gcsfuse-talentnet-dev/chains_ner/\"\n"
   ]
  },
  {
   "cell_type": "code",
   "execution_count": null,
   "metadata": {},
   "outputs": [],
   "source": [
    "# | eval: false\n",
    "\n",
    "chain1 = pdf_to_docs_chain(\n",
    "    input_variables=[\"path\"], output_variables=[\"docs\"], verbose=verbose\n",
    ")\n",
    "chain2 = add_cats_to_docs_chain(\n",
    "    cats_model=cats_model,\n",
    "    input_variables=[\"docs\"],\n",
    "    output_variables=[\"cat_docs\"],\n",
    "    verbose=verbose,\n",
    ")\n",
    "chain3 = add_ners_to_docs_chain(\n",
    "    e_ner=load_edu_model(device=device),\n",
    "    j_ner=load_job_model(device=device),\n",
    "    input_variables=[\"cat_docs\"],\n",
    "    output_variables=[\"ner_docs\"],\n",
    "    verbose=verbose,\n",
    ")\n",
    "chain4 = docs_to_json_chain(\n",
    "    json_folder=cats_folder,\n",
    "    indent=4,\n",
    "    input_variables=[\"ner_docs\"],\n",
    "    output_variables=[\"json_docs\"],\n",
    "    verbose=verbose,\n",
    ")\n",
    "chain = SequentialChain(\n",
    "    chains=[chain1, chain2, chain3, chain4],\n",
    "    input_variables=[\"path\"],\n",
    "    output_variables=[\"json_docs\"],\n",
    "    verbose=verbose,\n",
    ")\n"
   ]
  },
  {
   "cell_type": "code",
   "execution_count": null,
   "metadata": {},
   "outputs": [
    {
     "name": "stdout",
     "output_type": "stream",
     "text": [
      "\n",
      "\n",
      "\u001b[1m> Entering new  chain...\u001b[0m\n",
      "\n",
      "\n",
      "\u001b[1m> Entering new  chain...\u001b[0m\n",
      "\n",
      "\u001b[1m> Finished chain.\u001b[0m\n",
      "\n",
      "\n",
      "\u001b[1m> Entering new  chain...\u001b[0m\n"
     ]
    },
    {
     "name": "stderr",
     "output_type": "stream",
     "text": [
      "Asking to truncate to max_length but no maximum length is provided and the model has no predefined maximum length. Default to no truncation.\n"
     ]
    },
    {
     "name": "stdout",
     "output_type": "stream",
     "text": [
      "\n",
      "\u001b[1m> Finished chain.\u001b[0m\n",
      "\n",
      "\n",
      "\u001b[1m> Entering new  chain...\u001b[0m\n",
      "\n",
      "\u001b[1m> Finished chain.\u001b[0m\n",
      "\n",
      "\n",
      "\u001b[1m> Entering new  chain...\u001b[0m\n",
      "\n",
      "\u001b[38;5;4mℹ Downloading gs://gcsfuse-talentnet-dev/chains_ner/ to\n",
      "/tmp/chains_temp/6de444a725f140c8/chains_ner.\u001b[0m\n",
      "\n"
     ]
    },
    {
     "name": "stderr",
     "output_type": "stream",
     "text": [
      "CommandException: No URLs matched: gs://gcsfuse-talentnet-dev/chains_ner/*\n",
      "CommandException: 1 file/object could not be transferred.\n"
     ]
    },
    {
     "name": "stdout",
     "output_type": "stream",
     "text": [
      "\n",
      "\u001b[38;5;4mℹ Uploading /tmp/chains_temp/6de444a725f140c8/chains_ner to\n",
      "gs://gcsfuse-talentnet-dev/chains_ner/.\u001b[0m\n",
      "\n"
     ]
    },
    {
     "name": "stderr",
     "output_type": "stream",
     "text": [
      "Copying file:///tmp/chains_temp/6de444a725f140c8/chains_ner/0f479ee8-5fd9-4f55-b254-5e8feef08038_18.json [Content-Type=application/json]...\n",
      "Copying file:///tmp/chains_temp/6de444a725f140c8/chains_ner/0caeea25-ce38-4f7d-b4ac-c5ec9b7c4d84_5.json [Content-Type=application/json]...\n",
      "Copying file:///tmp/chains_temp/6de444a725f140c8/chains_ner/0caeea25-ce38-4f7d-b4ac-c5ec9b7c4d84_13.json [Content-Type=application/json]...\n",
      "Copying file:///tmp/chains_temp/6de444a725f140c8/chains_ner/0bedb223-262c-4388-9756-093dd7905428_17.json [Content-Type=application/json]...\n",
      "Copying file:///tmp/chains_temp/6de444a725f140c8/chains_ner/0d078ca0-b694-482e-a080-8bf9401a7d90_9.json [Content-Type=application/json]...\n",
      "Copying file:///tmp/chains_temp/6de444a725f140c8/chains_ner/0caeea25-ce38-4f7d-b4ac-c5ec9b7c4d84_7.json [Content-Type=application/json]...\n",
      "Copying file:///tmp/chains_temp/6de444a725f140c8/chains_ner/0cf20170-8051-41ba-9060-1a82d43f4289_1.json [Content-Type=application/json]...\n",
      "Copying file:///tmp/chains_temp/6de444a725f140c8/chains_ner/0bedb223-262c-4388-9756-093dd7905428_10.json [Content-Type=application/json]...\n",
      "Copying file:///tmp/chains_temp/6de444a725f140c8/chains_ner/0f479ee8-5fd9-4f55-b254-5e8feef08038_10.json [Content-Type=application/json]...\n",
      "Copying file:///tmp/chains_temp/6de444a725f140c8/chains_ner/0bedb223-262c-4388-9756-093dd7905428_16.json [Content-Type=application/json]...\n",
      "Copying file:///tmp/chains_temp/6de444a725f140c8/chains_ner/0bedb223-262c-4388-9756-093dd7905428_11.json [Content-Type=application/json]...\n",
      "Copying file:///tmp/chains_temp/6de444a725f140c8/chains_ner/0caeea25-ce38-4f7d-b4ac-c5ec9b7c4d84_37.json [Content-Type=application/json]...\n",
      "Copying file:///tmp/chains_temp/6de444a725f140c8/chains_ner/0f479ee8-5fd9-4f55-b254-5e8feef08038_29.json [Content-Type=application/json]...\n",
      "Copying file:///tmp/chains_temp/6de444a725f140c8/chains_ner/0d078ca0-b694-482e-a080-8bf9401a7d90_6.json [Content-Type=application/json]...\n",
      "Copying file:///tmp/chains_temp/6de444a725f140c8/chains_ner/0caeea25-ce38-4f7d-b4ac-c5ec9b7c4d84_10.json [Content-Type=application/json]...\n",
      "Copying file:///tmp/chains_temp/6de444a725f140c8/chains_ner/0bedb223-262c-4388-9756-093dd7905428_6.json [Content-Type=application/json]...\n",
      "Copying file:///tmp/chains_temp/6de444a725f140c8/chains_ner/0f479ee8-5fd9-4f55-b254-5e8feef08038_1.json [Content-Type=application/json]...\n",
      "Copying file:///tmp/chains_temp/6de444a725f140c8/chains_ner/0f479ee8-5fd9-4f55-b254-5e8feef08038_31.json [Content-Type=application/json]...\n",
      "Copying file:///tmp/chains_temp/6de444a725f140c8/chains_ner/0d078ca0-b694-482e-a080-8bf9401a7d90_5.json [Content-Type=application/json]...\n",
      "Copying file:///tmp/chains_temp/6de444a725f140c8/chains_ner/0caeea25-ce38-4f7d-b4ac-c5ec9b7c4d84_8.json [Content-Type=application/json]...\n",
      "Copying file:///tmp/chains_temp/6de444a725f140c8/chains_ner/0caeea25-ce38-4f7d-b4ac-c5ec9b7c4d84_19.json [Content-Type=application/json]...\n",
      "Copying file:///tmp/chains_temp/6de444a725f140c8/chains_ner/0f479ee8-5fd9-4f55-b254-5e8feef08038_2.json [Content-Type=application/json]...\n",
      "Copying file:///tmp/chains_temp/6de444a725f140c8/chains_ner/0d078ca0-b694-482e-a080-8bf9401a7d90_3.json [Content-Type=application/json]...\n",
      "Copying file:///tmp/chains_temp/6de444a725f140c8/chains_ner/0bedb223-262c-4388-9756-093dd7905428_15.json [Content-Type=application/json]...\n",
      "Copying file:///tmp/chains_temp/6de444a725f140c8/chains_ner/0f479ee8-5fd9-4f55-b254-5e8feef08038_15.json [Content-Type=application/json]...\n",
      "Copying file:///tmp/chains_temp/6de444a725f140c8/chains_ner/0caeea25-ce38-4f7d-b4ac-c5ec9b7c4d84_28.json [Content-Type=application/json]...\n",
      "Copying file:///tmp/chains_temp/6de444a725f140c8/chains_ner/0f479ee8-5fd9-4f55-b254-5e8feef08038_25.json [Content-Type=application/json]...\n",
      "Copying file:///tmp/chains_temp/6de444a725f140c8/chains_ner/0caeea25-ce38-4f7d-b4ac-c5ec9b7c4d84_4.json [Content-Type=application/json]...\n",
      "Copying file:///tmp/chains_temp/6de444a725f140c8/chains_ner/0f479ee8-5fd9-4f55-b254-5e8feef08038_19.json [Content-Type=application/json]...\n",
      "Copying file:///tmp/chains_temp/6de444a725f140c8/chains_ner/0caeea25-ce38-4f7d-b4ac-c5ec9b7c4d84_25.json [Content-Type=application/json]...\n",
      "Copying file:///tmp/chains_temp/6de444a725f140c8/chains_ner/0bedb223-262c-4388-9756-093dd7905428_13.json [Content-Type=application/json]...\n",
      "Copying file:///tmp/chains_temp/6de444a725f140c8/chains_ner/0cf20170-8051-41ba-9060-1a82d43f4289_23.json [Content-Type=application/json]...\n",
      "Copying file:///tmp/chains_temp/6de444a725f140c8/chains_ner/0f479ee8-5fd9-4f55-b254-5e8feef08038_5.json [Content-Type=application/json]...\n",
      "Copying file:///tmp/chains_temp/6de444a725f140c8/chains_ner/0bedb223-262c-4388-9756-093dd7905428_4.json [Content-Type=application/json]...\n",
      "Copying file:///tmp/chains_temp/6de444a725f140c8/chains_ner/0caeea25-ce38-4f7d-b4ac-c5ec9b7c4d84_16.json [Content-Type=application/json]...\n",
      "Copying file:///tmp/chains_temp/6de444a725f140c8/chains_ner/0f479ee8-5fd9-4f55-b254-5e8feef08038_24.json [Content-Type=application/json]...\n",
      "Copying file:///tmp/chains_temp/6de444a725f140c8/chains_ner/0bedb223-262c-4388-9756-093dd7905428_9.json [Content-Type=application/json]...\n",
      "Copying file:///tmp/chains_temp/6de444a725f140c8/chains_ner/0caeea25-ce38-4f7d-b4ac-c5ec9b7c4d84_27.json [Content-Type=application/json]...\n",
      "Copying file:///tmp/chains_temp/6de444a725f140c8/chains_ner/0caeea25-ce38-4f7d-b4ac-c5ec9b7c4d84_21.json [Content-Type=application/json]...\n",
      "Copying file:///tmp/chains_temp/6de444a725f140c8/chains_ner/0caeea25-ce38-4f7d-b4ac-c5ec9b7c4d84_11.json [Content-Type=application/json]...\n",
      "Copying file:///tmp/chains_temp/6de444a725f140c8/chains_ner/0cf20170-8051-41ba-9060-1a82d43f4289_21.json [Content-Type=application/json]...\n",
      "Copying file:///tmp/chains_temp/6de444a725f140c8/chains_ner/0f479ee8-5fd9-4f55-b254-5e8feef08038_21.json [Content-Type=application/json]...\n",
      "Copying file:///tmp/chains_temp/6de444a725f140c8/chains_ner/0f479ee8-5fd9-4f55-b254-5e8feef08038_6.json [Content-Type=application/json]...\n",
      "Copying file:///tmp/chains_temp/6de444a725f140c8/chains_ner/0bedb223-262c-4388-9756-093dd7905428_24.json [Content-Type=application/json]...\n",
      "Copying file:///tmp/chains_temp/6de444a725f140c8/chains_ner/0bedb223-262c-4388-9756-093dd7905428_30.json [Content-Type=application/json]...\n",
      "Copying file:///tmp/chains_temp/6de444a725f140c8/chains_ner/0cf20170-8051-41ba-9060-1a82d43f4289_24.json [Content-Type=application/json]...\n",
      "Copying file:///tmp/chains_temp/6de444a725f140c8/chains_ner/0f479ee8-5fd9-4f55-b254-5e8feef08038_14.json [Content-Type=application/json]...\n",
      "Copying file:///tmp/chains_temp/6de444a725f140c8/chains_ner/0caeea25-ce38-4f7d-b4ac-c5ec9b7c4d84_39.json [Content-Type=application/json]...\n",
      "Copying file:///tmp/chains_temp/6de444a725f140c8/chains_ner/0bedb223-262c-4388-9756-093dd7905428_28.json [Content-Type=application/json]...\n",
      "Copying file:///tmp/chains_temp/6de444a725f140c8/chains_ner/0bedb223-262c-4388-9756-093dd7905428_23.json [Content-Type=application/json]...\n",
      "Copying file:///tmp/chains_temp/6de444a725f140c8/chains_ner/0caeea25-ce38-4f7d-b4ac-c5ec9b7c4d84_18.json [Content-Type=application/json]...\n",
      "Copying file:///tmp/chains_temp/6de444a725f140c8/chains_ner/0cf20170-8051-41ba-9060-1a82d43f4289_22.json [Content-Type=application/json]...\n",
      "Copying file:///tmp/chains_temp/6de444a725f140c8/chains_ner/0caeea25-ce38-4f7d-b4ac-c5ec9b7c4d84_34.json [Content-Type=application/json]...\n",
      "Copying file:///tmp/chains_temp/6de444a725f140c8/chains_ner/0caeea25-ce38-4f7d-b4ac-c5ec9b7c4d84_38.json [Content-Type=application/json]...\n",
      "Copying file:///tmp/chains_temp/6de444a725f140c8/chains_ner/0d078ca0-b694-482e-a080-8bf9401a7d90_10.json [Content-Type=application/json]...\n",
      "Copying file:///tmp/chains_temp/6de444a725f140c8/chains_ner/0bedb223-262c-4388-9756-093dd7905428_25.json [Content-Type=application/json]...\n",
      "Copying file:///tmp/chains_temp/6de444a725f140c8/chains_ner/0caeea25-ce38-4f7d-b4ac-c5ec9b7c4d84_29.json [Content-Type=application/json]...\n",
      "Copying file:///tmp/chains_temp/6de444a725f140c8/chains_ner/0bedb223-262c-4388-9756-093dd7905428.json [Content-Type=application/json]...\n",
      "Copying file:///tmp/chains_temp/6de444a725f140c8/chains_ner/0f479ee8-5fd9-4f55-b254-5e8feef08038_9.json [Content-Type=application/json]...\n",
      "Copying file:///tmp/chains_temp/6de444a725f140c8/chains_ner/0cf20170-8051-41ba-9060-1a82d43f4289_18.json [Content-Type=application/json]...\n",
      "Copying file:///tmp/chains_temp/6de444a725f140c8/chains_ner/0f479ee8-5fd9-4f55-b254-5e8feef08038_27.json [Content-Type=application/json]...\n",
      "Copying file:///tmp/chains_temp/6de444a725f140c8/chains_ner/0f479ee8-5fd9-4f55-b254-5e8feef08038_4.json [Content-Type=application/json]...\n",
      "Copying file:///tmp/chains_temp/6de444a725f140c8/chains_ner/0f479ee8-5fd9-4f55-b254-5e8feef08038_12.json [Content-Type=application/json]...\n",
      "Copying file:///tmp/chains_temp/6de444a725f140c8/chains_ner/0bedb223-262c-4388-9756-093dd7905428_26.json [Content-Type=application/json]...\n",
      "Copying file:///tmp/chains_temp/6de444a725f140c8/chains_ner/0d078ca0-b694-482e-a080-8bf9401a7d90_11.json [Content-Type=application/json]...\n",
      "Copying file:///tmp/chains_temp/6de444a725f140c8/chains_ner/0bedb223-262c-4388-9756-093dd7905428_32.json [Content-Type=application/json]...\n",
      "Copying file:///tmp/chains_temp/6de444a725f140c8/chains_ner/0f479ee8-5fd9-4f55-b254-5e8feef08038_17.json [Content-Type=application/json]...\n",
      "Copying file:///tmp/chains_temp/6de444a725f140c8/chains_ner/0bedb223-262c-4388-9756-093dd7905428_21.json [Content-Type=application/json]...\n",
      "Copying file:///tmp/chains_temp/6de444a725f140c8/chains_ner/0caeea25-ce38-4f7d-b4ac-c5ec9b7c4d84_17.json [Content-Type=application/json]...\n",
      "Copying file:///tmp/chains_temp/6de444a725f140c8/chains_ner/0bedb223-262c-4388-9756-093dd7905428_12.json [Content-Type=application/json]...\n",
      "Copying file:///tmp/chains_temp/6de444a725f140c8/chains_ner/0d078ca0-b694-482e-a080-8bf9401a7d90_7.json [Content-Type=application/json]...\n",
      "Copying file:///tmp/chains_temp/6de444a725f140c8/chains_ner/0f479ee8-5fd9-4f55-b254-5e8feef08038_3.json [Content-Type=application/json]...\n",
      "Copying file:///tmp/chains_temp/6de444a725f140c8/chains_ner/0caeea25-ce38-4f7d-b4ac-c5ec9b7c4d84_22.json [Content-Type=application/json]...\n",
      "Copying file:///tmp/chains_temp/6de444a725f140c8/chains_ner/0bedb223-262c-4388-9756-093dd7905428_22.json [Content-Type=application/json]...\n",
      "Copying file:///tmp/chains_temp/6de444a725f140c8/chains_ner/0cf20170-8051-41ba-9060-1a82d43f4289_4.json [Content-Type=application/json]...\n",
      "Copying file:///tmp/chains_temp/6de444a725f140c8/chains_ner/0f479ee8-5fd9-4f55-b254-5e8feef08038.json [Content-Type=application/json]...\n",
      "Copying file:///tmp/chains_temp/6de444a725f140c8/chains_ner/0caeea25-ce38-4f7d-b4ac-c5ec9b7c4d84_12.json [Content-Type=application/json]...\n",
      "Copying file:///tmp/chains_temp/6de444a725f140c8/chains_ner/0cf20170-8051-41ba-9060-1a82d43f4289_6.json [Content-Type=application/json]...\n",
      "Copying file:///tmp/chains_temp/6de444a725f140c8/chains_ner/0cf20170-8051-41ba-9060-1a82d43f4289_11.json [Content-Type=application/json]...\n",
      "Copying file:///tmp/chains_temp/6de444a725f140c8/chains_ner/0f479ee8-5fd9-4f55-b254-5e8feef08038_28.json [Content-Type=application/json]...\n",
      "Copying file:///tmp/chains_temp/6de444a725f140c8/chains_ner/0d078ca0-b694-482e-a080-8bf9401a7d90_4.json [Content-Type=application/json]...\n",
      "Copying file:///tmp/chains_temp/6de444a725f140c8/chains_ner/0d078ca0-b694-482e-a080-8bf9401a7d90_8.json [Content-Type=application/json]...\n",
      "Copying file:///tmp/chains_temp/6de444a725f140c8/chains_ner/0f479ee8-5fd9-4f55-b254-5e8feef08038_30.json [Content-Type=application/json]...\n",
      "Copying file:///tmp/chains_temp/6de444a725f140c8/chains_ner/0caeea25-ce38-4f7d-b4ac-c5ec9b7c4d84_36.json [Content-Type=application/json]...\n",
      "Copying file:///tmp/chains_temp/6de444a725f140c8/chains_ner/0caeea25-ce38-4f7d-b4ac-c5ec9b7c4d84_14.json [Content-Type=application/json]...\n",
      "Copying file:///tmp/chains_temp/6de444a725f140c8/chains_ner/0f479ee8-5fd9-4f55-b254-5e8feef08038_7.json [Content-Type=application/json]...\n",
      "Copying file:///tmp/chains_temp/6de444a725f140c8/chains_ner/0caeea25-ce38-4f7d-b4ac-c5ec9b7c4d84_33.json [Content-Type=application/json]...\n",
      "Copying file:///tmp/chains_temp/6de444a725f140c8/chains_ner/0cf20170-8051-41ba-9060-1a82d43f4289_9.json [Content-Type=application/json]...\n",
      "Copying file:///tmp/chains_temp/6de444a725f140c8/chains_ner/0bedb223-262c-4388-9756-093dd7905428_19.json [Content-Type=application/json]...\n",
      "Copying file:///tmp/chains_temp/6de444a725f140c8/chains_ner/0caeea25-ce38-4f7d-b4ac-c5ec9b7c4d84.json [Content-Type=application/json]...\n",
      "Copying file:///tmp/chains_temp/6de444a725f140c8/chains_ner/0bedb223-262c-4388-9756-093dd7905428_8.json [Content-Type=application/json]...\n",
      "Copying file:///tmp/chains_temp/6de444a725f140c8/chains_ner/0cf20170-8051-41ba-9060-1a82d43f4289_3.json [Content-Type=application/json]...\n",
      "Copying file:///tmp/chains_temp/6de444a725f140c8/chains_ner/0caeea25-ce38-4f7d-b4ac-c5ec9b7c4d84_35.json [Content-Type=application/json]...\n",
      "Copying file:///tmp/chains_temp/6de444a725f140c8/chains_ner/0cf20170-8051-41ba-9060-1a82d43f4289_2.json [Content-Type=application/json]...\n",
      "Copying file:///tmp/chains_temp/6de444a725f140c8/chains_ner/0cf20170-8051-41ba-9060-1a82d43f4289_27.json [Content-Type=application/json]...\n",
      "Copying file:///tmp/chains_temp/6de444a725f140c8/chains_ner/0d078ca0-b694-482e-a080-8bf9401a7d90.json [Content-Type=application/json]...\n",
      "Copying file:///tmp/chains_temp/6de444a725f140c8/chains_ner/0bedb223-262c-4388-9756-093dd7905428_3.json [Content-Type=application/json]...\n",
      "Copying file:///tmp/chains_temp/6de444a725f140c8/chains_ner/0caeea25-ce38-4f7d-b4ac-c5ec9b7c4d84_40.json [Content-Type=application/json]...\n",
      "Copying file:///tmp/chains_temp/6de444a725f140c8/chains_ner/0caeea25-ce38-4f7d-b4ac-c5ec9b7c4d84_9.json [Content-Type=application/json]...\n",
      "Copying file:///tmp/chains_temp/6de444a725f140c8/chains_ner/0cf20170-8051-41ba-9060-1a82d43f4289_26.json [Content-Type=application/json]...\n",
      "Copying file:///tmp/chains_temp/6de444a725f140c8/chains_ner/0caeea25-ce38-4f7d-b4ac-c5ec9b7c4d84_26.json [Content-Type=application/json]...\n",
      "Copying file:///tmp/chains_temp/6de444a725f140c8/chains_ner/0f479ee8-5fd9-4f55-b254-5e8feef08038_8.json [Content-Type=application/json]...\n",
      "Copying file:///tmp/chains_temp/6de444a725f140c8/chains_ner/0f479ee8-5fd9-4f55-b254-5e8feef08038_32.json [Content-Type=application/json]...\n",
      "Copying file:///tmp/chains_temp/6de444a725f140c8/chains_ner/0f479ee8-5fd9-4f55-b254-5e8feef08038_33.json [Content-Type=application/json]...\n",
      "Copying file:///tmp/chains_temp/6de444a725f140c8/chains_ner/0bedb223-262c-4388-9756-093dd7905428_5.json [Content-Type=application/json]...\n",
      "Copying file:///tmp/chains_temp/6de444a725f140c8/chains_ner/0cf20170-8051-41ba-9060-1a82d43f4289_20.json [Content-Type=application/json]...\n",
      "Copying file:///tmp/chains_temp/6de444a725f140c8/chains_ner/0caeea25-ce38-4f7d-b4ac-c5ec9b7c4d84_24.json [Content-Type=application/json]...\n",
      "Copying file:///tmp/chains_temp/6de444a725f140c8/chains_ner/0cf20170-8051-41ba-9060-1a82d43f4289_12.json [Content-Type=application/json]...\n",
      "Copying file:///tmp/chains_temp/6de444a725f140c8/chains_ner/0bedb223-262c-4388-9756-093dd7905428_18.json [Content-Type=application/json]...\n",
      "Copying file:///tmp/chains_temp/6de444a725f140c8/chains_ner/0cf20170-8051-41ba-9060-1a82d43f4289_16.json [Content-Type=application/json]...\n",
      "Copying file:///tmp/chains_temp/6de444a725f140c8/chains_ner/0cf20170-8051-41ba-9060-1a82d43f4289_17.json [Content-Type=application/json]...\n",
      "Copying file:///tmp/chains_temp/6de444a725f140c8/chains_ner/0cf20170-8051-41ba-9060-1a82d43f4289_13.json [Content-Type=application/json]...\n",
      "Copying file:///tmp/chains_temp/6de444a725f140c8/chains_ner/0cf20170-8051-41ba-9060-1a82d43f4289_7.json [Content-Type=application/json]...\n",
      "Copying file:///tmp/chains_temp/6de444a725f140c8/chains_ner/0cf20170-8051-41ba-9060-1a82d43f4289_15.json [Content-Type=application/json]...\n",
      "Copying file:///tmp/chains_temp/6de444a725f140c8/chains_ner/0cf20170-8051-41ba-9060-1a82d43f4289_14.json [Content-Type=application/json]...\n",
      "Copying file:///tmp/chains_temp/6de444a725f140c8/chains_ner/0cf20170-8051-41ba-9060-1a82d43f4289_5.json [Content-Type=application/json]...\n",
      "Copying file:///tmp/chains_temp/6de444a725f140c8/chains_ner/0caeea25-ce38-4f7d-b4ac-c5ec9b7c4d84_6.json [Content-Type=application/json]...\n",
      "Copying file:///tmp/chains_temp/6de444a725f140c8/chains_ner/0bedb223-262c-4388-9756-093dd7905428_27.json [Content-Type=application/json]...\n",
      "Copying file:///tmp/chains_temp/6de444a725f140c8/chains_ner/0d078ca0-b694-482e-a080-8bf9401a7d90_1.json [Content-Type=application/json]...\n",
      "Copying file:///tmp/chains_temp/6de444a725f140c8/chains_ner/0f479ee8-5fd9-4f55-b254-5e8feef08038_13.json [Content-Type=application/json]...\n",
      "Copying file:///tmp/chains_temp/6de444a725f140c8/chains_ner/0d078ca0-b694-482e-a080-8bf9401a7d90_2.json [Content-Type=application/json]...\n",
      "Copying file:///tmp/chains_temp/6de444a725f140c8/chains_ner/0bedb223-262c-4388-9756-093dd7905428_14.json [Content-Type=application/json]...\n",
      "Copying file:///tmp/chains_temp/6de444a725f140c8/chains_ner/0f479ee8-5fd9-4f55-b254-5e8feef08038_23.json [Content-Type=application/json]...\n",
      "Copying file:///tmp/chains_temp/6de444a725f140c8/chains_ner/0f479ee8-5fd9-4f55-b254-5e8feef08038_20.json [Content-Type=application/json]...\n",
      "Copying file:///tmp/chains_temp/6de444a725f140c8/chains_ner/0caeea25-ce38-4f7d-b4ac-c5ec9b7c4d84_23.json [Content-Type=application/json]...\n",
      "Copying file:///tmp/chains_temp/6de444a725f140c8/chains_ner/0cf20170-8051-41ba-9060-1a82d43f4289_19.json [Content-Type=application/json]...\n",
      "Copying file:///tmp/chains_temp/6de444a725f140c8/chains_ner/0caeea25-ce38-4f7d-b4ac-c5ec9b7c4d84_20.json [Content-Type=application/json]...\n",
      "Copying file:///tmp/chains_temp/6de444a725f140c8/chains_ner/0bedb223-262c-4388-9756-093dd7905428_29.json [Content-Type=application/json]...\n",
      "Copying file:///tmp/chains_temp/6de444a725f140c8/chains_ner/0caeea25-ce38-4f7d-b4ac-c5ec9b7c4d84_1.json [Content-Type=application/json]...\n",
      "Copying file:///tmp/chains_temp/6de444a725f140c8/chains_ner/0caeea25-ce38-4f7d-b4ac-c5ec9b7c4d84_32.json [Content-Type=application/json]...\n",
      "Copying file:///tmp/chains_temp/6de444a725f140c8/chains_ner/0caeea25-ce38-4f7d-b4ac-c5ec9b7c4d84_15.json [Content-Type=application/json]...\n",
      "Copying file:///tmp/chains_temp/6de444a725f140c8/chains_ner/0cf20170-8051-41ba-9060-1a82d43f4289_10.json [Content-Type=application/json]...\n",
      "Copying file:///tmp/chains_temp/6de444a725f140c8/chains_ner/0cf20170-8051-41ba-9060-1a82d43f4289_25.json [Content-Type=application/json]...\n",
      "Copying file:///tmp/chains_temp/6de444a725f140c8/chains_ner/0cf20170-8051-41ba-9060-1a82d43f4289.json [Content-Type=application/json]...\n",
      "Copying file:///tmp/chains_temp/6de444a725f140c8/chains_ner/0bedb223-262c-4388-9756-093dd7905428_2.json [Content-Type=application/json]...\n",
      "Copying file:///tmp/chains_temp/6de444a725f140c8/chains_ner/0bedb223-262c-4388-9756-093dd7905428_20.json [Content-Type=application/json]...\n",
      "Copying file:///tmp/chains_temp/6de444a725f140c8/chains_ner/0f479ee8-5fd9-4f55-b254-5e8feef08038_11.json [Content-Type=application/json]...\n",
      "Copying file:///tmp/chains_temp/6de444a725f140c8/chains_ner/0caeea25-ce38-4f7d-b4ac-c5ec9b7c4d84_31.json [Content-Type=application/json]...\n",
      "Copying file:///tmp/chains_temp/6de444a725f140c8/chains_ner/0bedb223-262c-4388-9756-093dd7905428_31.json [Content-Type=application/json]...\n",
      "Copying file:///tmp/chains_temp/6de444a725f140c8/chains_ner/0f479ee8-5fd9-4f55-b254-5e8feef08038_16.json [Content-Type=application/json]...\n",
      "Copying file:///tmp/chains_temp/6de444a725f140c8/chains_ner/0cf20170-8051-41ba-9060-1a82d43f4289_8.json [Content-Type=application/json]...\n",
      "Copying file:///tmp/chains_temp/6de444a725f140c8/chains_ner/0caeea25-ce38-4f7d-b4ac-c5ec9b7c4d84_2.json [Content-Type=application/json]...\n",
      "Copying file:///tmp/chains_temp/6de444a725f140c8/chains_ner/0bedb223-262c-4388-9756-093dd7905428_7.json [Content-Type=application/json]...\n",
      "Copying file:///tmp/chains_temp/6de444a725f140c8/chains_ner/0f479ee8-5fd9-4f55-b254-5e8feef08038_26.json [Content-Type=application/json]...\n",
      "Copying file:///tmp/chains_temp/6de444a725f140c8/chains_ner/0caeea25-ce38-4f7d-b4ac-c5ec9b7c4d84_30.json [Content-Type=application/json]...\n",
      "Copying file:///tmp/chains_temp/6de444a725f140c8/chains_ner/0bedb223-262c-4388-9756-093dd7905428_1.json [Content-Type=application/json]...\n",
      "Copying file:///tmp/chains_temp/6de444a725f140c8/chains_ner/0caeea25-ce38-4f7d-b4ac-c5ec9b7c4d84_3.json [Content-Type=application/json]...\n",
      "Copying file:///tmp/chains_temp/6de444a725f140c8/chains_ner/0f479ee8-5fd9-4f55-b254-5e8feef08038_22.json [Content-Type=application/json]...\n",
      "/ [148/148 files][ 57.3 KiB/ 57.3 KiB] 100% Done                                \n",
      "Operation completed over 148 objects/57.3 KiB.                                   \n"
     ]
    },
    {
     "name": "stdout",
     "output_type": "stream",
     "text": [
      "\n",
      "\u001b[1m> Finished chain.\u001b[0m\n",
      "\n",
      "\u001b[1m> Finished chain.\u001b[0m\n"
     ]
    }
   ],
   "source": [
    "# | eval: false\n",
    "\n",
    "pdf = \"../../resumes_5/\"\n",
    "res = chain(dict(path=pdf))\n"
   ]
  },
  {
   "cell_type": "code",
   "execution_count": null,
   "metadata": {},
   "outputs": [
    {
     "name": "stdout",
     "output_type": "stream",
     "text": [
      "{'source': '../../resumes_5/0cf20170-8051-41ba-9060-1a82d43f4289.pdf', 'page': 0, 'start_index': 3474, 'category': 'Education', 'ner': {'institute': 'university of mumbai', 'date': '2008 - 2011'}}\n",
      "bachelor of commerce (b. com) - university of mumbai 2008 - 2011\n"
     ]
    }
   ],
   "source": [
    "# | eval: false\n",
    "\n",
    "doc = res[\"json_docs\"][0][-1]\n",
    "print(doc.metadata)\n",
    "print(doc.page_content)\n"
   ]
  },
  {
   "cell_type": "code",
   "execution_count": null,
   "metadata": {},
   "outputs": [],
   "source": [
    "# temp_folder = Path('/tmp/chains_temp')\n",
    "# from datetime import datetime\n",
    "# def within_n_days(date, n=30):\n",
    "#     return (datetime.now().date() - date).days < n\n",
    "# today = datetime.today().date()\n",
    "# for f in temp_folder.iterdir():\n",
    "#     m_date = datetime.fromtimestamp(f.stat().st_mtime).date()\n",
    "#     m_date = '2023-07-10'\n",
    "#     m_date = datetime.strptime(m_date, '%Y-%m-%d').date()\n",
    "#     if within_n_days(m_date):\n",
    "#         print(f)\n",
    "#         print(m_date)\n",
    "#         print((today - m_date).days)\n",
    "#         print()\n",
    "\n",
    "# for f in temp_folder.iterdir():\n",
    "#     print(f.stat().st_mtime)"
   ]
  },
  {
   "cell_type": "code",
   "execution_count": null,
   "metadata": {},
   "outputs": [],
   "source": []
  },
  {
   "cell_type": "code",
   "execution_count": null,
   "metadata": {},
   "outputs": [],
   "source": [
    "# | hide\n",
    "import nbdev\n",
    "\n",
    "nbdev.nbdev_export()\n"
   ]
  },
  {
   "cell_type": "code",
   "execution_count": null,
   "metadata": {},
   "outputs": [],
   "source": []
  }
 ],
 "metadata": {
  "kernelspec": {
   "display_name": "python3",
   "language": "python",
   "name": "python3"
  }
 },
 "nbformat": 4,
 "nbformat_minor": 4
}

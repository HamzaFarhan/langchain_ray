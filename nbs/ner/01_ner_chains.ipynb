{
 "cells": [
  {
   "cell_type": "markdown",
   "metadata": {},
   "source": [
    "# Chains\n",
    "\n",
    "> Chains-based functions for NER."
   ]
  },
  {
   "cell_type": "code",
   "execution_count": null,
   "metadata": {},
   "outputs": [],
   "source": [
    "# | default_exp ner.chains"
   ]
  },
  {
   "cell_type": "code",
   "execution_count": null,
   "metadata": {},
   "outputs": [],
   "source": [
    "# | export\n",
    "\n",
    "from langchain_ray.imports import *\n",
    "from langchain_ray.chains import *\n",
    "from langchain_ray.utils import *\n",
    "from pydantic import BaseModel, Field\n",
    "from langchain.output_parsers import PydanticOutputParser"
   ]
  },
  {
   "cell_type": "code",
   "execution_count": null,
   "metadata": {},
   "outputs": [],
   "source": [
    "# | export\n",
    "\n",
    "\n",
    "class EduNER(BaseModel):\n",
    "    degree: str = Field(description=\"The degree of the education.\", default=None)\n",
    "    major: str = Field(description=\"The major of the education.\", default=None)\n",
    "    school: str = Field(description=\"The school of the education.\", default=None)\n",
    "    date: str = Field(description=\"The date of the education.\", default=None)\n",
    "\n",
    "\n",
    "class JobNER(BaseModel):\n",
    "    role: str = Field(description=\"The role of the job.\", default=None)\n",
    "    company: str = Field(description=\"The company of the job.\", default=None)\n",
    "    duration: str = Field(description=\"The duration of the job.\", default=None)"
   ]
  },
  {
   "cell_type": "code",
   "execution_count": null,
   "metadata": {},
   "outputs": [],
   "source": [
    "# #| hide\n",
    "# #| eval: false\n",
    "\n",
    "\n",
    "# examples = [{\"text\": \"text 1\", \"ner\": \"ner 1\"}, {\"text\": \"text 2\", \"ner\": \"ner 2\"}]\n",
    "\n",
    "# job_parser = PydanticOutputParser(pydantic_object=JobNER)\n",
    "# ex_temp = \"text: {text}\\n{ner}\"\n",
    "# ex_prompt = PromptTemplate.from_template(ex_temp)\n",
    "# ex_prompt = FewShotPromptTemplate(\n",
    "#     examples=examples,\n",
    "#     example_prompt=ex_prompt,\n",
    "#     prefix=\"Extract ner from this text:\\n{format_instructions}\\nHere are some examples:\\n\",\n",
    "#     suffix=\"Now it's your turn:\\ntext: {text}\",\n",
    "#     input_variables=[\"format_instructions\", \"text\"],\n",
    "# ).partial(format_instructions=job_parser.get_format_instructions())\n",
    "# #| hide\n",
    "# #| eval: false\n",
    "\n",
    "\n",
    "# tt_pipe = HuggingFacePipeline(\n",
    "#     pipeline=pipeline(\n",
    "#         \"text2text-generation\",\n",
    "#         model=\"google/flan-t5-large\",\n",
    "#         device_map=default_device(),\n",
    "#         max_new_tokens=256,\n",
    "#     )\n",
    "# )\n",
    "# #| hide\n",
    "# #| eval: false\n",
    "\n",
    "# gen_chain = LLMChain(prompt=ex_prompt, llm=tt_pipe)"
   ]
  },
  {
   "cell_type": "code",
   "execution_count": null,
   "metadata": {},
   "outputs": [],
   "source": [
    "# | hide\n",
    "import nbdev\n",
    "\n",
    "nbdev.nbdev_export()"
   ]
  }
 ],
 "metadata": {
  "kernelspec": {
   "display_name": "python3",
   "language": "python",
   "name": "python3"
  }
 },
 "nbformat": 4,
 "nbformat_minor": 4
}

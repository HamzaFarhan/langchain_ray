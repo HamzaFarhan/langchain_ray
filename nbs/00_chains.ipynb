{
 "cells": [
  {
   "cell_type": "markdown",
   "metadata": {},
   "source": [
    "# Chains\n",
    "\n",
    "> Functions for creating and manipulating Chains.\n"
   ]
  },
  {
   "cell_type": "code",
   "execution_count": null,
   "metadata": {},
   "outputs": [],
   "source": [
    "# | default_exp chains"
   ]
  },
  {
   "cell_type": "code",
   "execution_count": null,
   "metadata": {},
   "outputs": [],
   "source": [
    "# | export\n",
    "\n",
    "from dreamai.imports import *\n",
    "from langchain_ray.imports import *"
   ]
  },
  {
   "cell_type": "code",
   "execution_count": null,
   "metadata": {},
   "outputs": [],
   "source": [
    "# | export\n",
    "\n",
    "\n",
    "def chain_fn(data, tfm, tfm_kwargs={}, input_key=\"df\", output_key=\"df\"):\n",
    "    return {output_key: tfm(data[input_key], **tfm_kwargs)}\n",
    "\n",
    "\n",
    "def transform_chain(transform, transform_kwargs={}, input_key=\"df\", output_key=\"df\"):\n",
    "    return TransformChain(\n",
    "        input_variables=[input_key],\n",
    "        output_variables=[output_key],\n",
    "        transform=partial(\n",
    "            chain_fn,\n",
    "            tfm=transform,\n",
    "            tfm_kwargs=transform_kwargs,\n",
    "            input_key=input_key,\n",
    "            output_key=output_key,\n",
    "        ),\n",
    "    )\n",
    "\n",
    "\n",
    "def ray_chain_fn(data, chain, block_size=1500, num_cpus=8, num_gpus=1):\n",
    "    df = data[chain.input_keys[0]]\n",
    "    if not is_df(df):\n",
    "        res = chain.run(df)\n",
    "    elif block_size is None or len(df) <= block_size:\n",
    "        res = chain.run(df)\n",
    "    else:\n",
    "        ray.init(ignore_reinit_error=True)\n",
    "        num_blocks = int(np.ceil(len(df) / block_size))\n",
    "        msg.info(f\"Running chain on {num_blocks} blocks.\", spaced=True)\n",
    "        num_cpus = min(ray.available_resources()[\"CPU\"], num_cpus)\n",
    "        num_cpus /= num_blocks\n",
    "        if num_gpus is not None:\n",
    "            num_gpus = min(ray.available_resources()[\"GPU\"], num_gpus)\n",
    "            num_gpus /= num_blocks\n",
    "            num_cpus = None\n",
    "        ds = rd.from_pandas(df).repartition(num_blocks)\n",
    "        res = ds.map_batches(\n",
    "            lambda x: chain.run(x),\n",
    "            batch_size=block_size,\n",
    "            num_cpus=num_cpus,\n",
    "            num_gpus=num_gpus,\n",
    "            batch_format=\"pandas\",\n",
    "        ).to_pandas()\n",
    "    return {chain.output_keys[0]: res}\n",
    "\n",
    "\n",
    "def ray_chain(chain, block_size=1500, num_cpus=8, num_gpus=1):\n",
    "    tfm = partial(\n",
    "        ray_chain_fn, chain=chain, block_size=block_size, num_cpus=num_cpus, num_gpus=num_gpus\n",
    "    )\n",
    "    input_variables = chain.input_keys\n",
    "    output_variables = chain.output_keys\n",
    "    return TransformChain(\n",
    "        input_variables=input_variables,\n",
    "        output_variables=output_variables,\n",
    "        transform=tfm,\n",
    "    )\n",
    "\n",
    "\n",
    "def noop_chain():\n",
    "    return transform_chain(noop)"
   ]
  },
  {
   "cell_type": "code",
   "execution_count": null,
   "metadata": {},
   "outputs": [],
   "source": [
    "# | hide\n",
    "import nbdev\n",
    "\n",
    "nbdev.nbdev_export()"
   ]
  }
 ],
 "metadata": {
  "kernelspec": {
   "display_name": "python3",
   "language": "python",
   "name": "python3"
  }
 },
 "nbformat": 4,
 "nbformat_minor": 4
}

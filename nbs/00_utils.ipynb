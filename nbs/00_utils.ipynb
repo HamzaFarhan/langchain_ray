{
 "cells": [
  {
   "cell_type": "markdown",
   "metadata": {},
   "source": [
    "# Utils\n"
   ]
  },
  {
   "cell_type": "code",
   "execution_count": null,
   "metadata": {},
   "outputs": [],
   "source": [
    "# | default_exp utils"
   ]
  },
  {
   "cell_type": "code",
   "execution_count": null,
   "metadata": {},
   "outputs": [],
   "source": [
    "# | export\n",
    "\n",
    "from dreamai.imports import *\n",
    "from langchain_ray.imports import *"
   ]
  },
  {
   "cell_type": "code",
   "execution_count": null,
   "metadata": {},
   "outputs": [],
   "source": [
    "# | export\n",
    "\n",
    "\n",
    "def cid_to_char(cidx: str):\n",
    "    try:\n",
    "        return chr(int(re.findall(r\"\\(cid\\:(\\d+)\\)\", cidx)[0]) + 29)\n",
    "    except:\n",
    "        return cidx\n",
    "\n",
    "\n",
    "def process_text(text: str):\n",
    "    text = text.strip()\n",
    "    text = cid_to_char(text)\n",
    "    text = re.sub(\"\\xa0\", \" \", text)\n",
    "    text = re.sub(r\"\\uf0b7\", \" \", text)\n",
    "    text = re.sub(r\"\\(cid:\\d{0,3}\\)\", \" \", text)\n",
    "    text = re.sub(r\"•\", \"\", text)\n",
    "    text = re.sub(r\"●\", \"\", text)\n",
    "    text = re.sub(r\"▪\", \"\", text)\n",
    "    text = re.sub(r\"\", \"\", text)\n",
    "    text = re.sub(r\"➢\", \"\", text)\n",
    "    text = re.sub(r\"\\u2b9a\", \"\", text)\n",
    "    text = re.sub(r\"\\u201c\", \"\", text)\n",
    "    text = re.sub(r\"\\u201d\", \"\", text)\n",
    "    text = re.sub(r\"\\u2013\", \" \", text)\n",
    "    text = re.sub(r\"\\u2019\", \"'\", text)\n",
    "    text = re.sub(r\"\\u2018\", \"'\", text)\n",
    "    text = re.sub(r\"\\u00f4\", \" \", text)\n",
    "    text = re.sub(r\"\\u00f6\", \"o\", text)\n",
    "    text = re.sub(r\"\\u00e9\", \"e\", text)\n",
    "    text = re.sub(r\"\\u00e8\", \"e\", text)\n",
    "    text = re.sub(r\"\\u00e7\", \" \", text)\n",
    "    text = re.sub(r\"\\u00a7\", \"\", text)\n",
    "    text = re.sub(r\"\\u00e3\", \"a\", text)\n",
    "    text = re.sub(r\"\\uf0a7\", \"\", text)\n",
    "    text = re.sub(r\"\\uf076\", \"\", text)\n",
    "    text = re.sub(r\"\\u00ad\", \"\", text)\n",
    "    text = re.sub(r\"\\u00ab\", \"\", text)\n",
    "    text = re.sub(r\"\\u00bb\", \"\", text)\n",
    "    text = re.sub(r\"\\uf02d\", \"\", text)\n",
    "    text = re.sub(r\"\\uf0fc\", \"\", text)\n",
    "    text = re.sub(r\"\\uf06e\", \"\", text)\n",
    "    text = re.sub(r\"\\uf07a\", \"\", text)\n",
    "    text = re.sub(r\"\\ufb01\", \"fi\", text)\n",
    "    text = re.sub(r\"\\ufb00\", \"ff\", text)\n",
    "    text = re.sub(r\"\\uf0d8\", \"\", text)\n",
    "    text = re.sub(r\"\\u00b7\", \"\", text)\n",
    "    text = re.sub(\"\\t\", \" \", text)\n",
    "    text = re.sub(\" +\", \" \", text)\n",
    "    return text.strip()\n",
    "\n",
    "\n",
    "def proc_doc_text(doc):\n",
    "    doc.page_content = process_text(doc.page_content)\n",
    "    return doc\n",
    "\n",
    "\n",
    "def bold_text(text):\n",
    "    return \"\\033[1m\" + text + \"\\033[0m\"\n",
    "\n",
    "\n",
    "def print_doc(doc):\n",
    "    print(f\"{bold_text('Page_Content:')} {doc.page_content}\\n\")\n",
    "    print(f\"{bold_text('Metadata:')} {doc.metadata}\\n\")"
   ]
  },
  {
   "cell_type": "code",
   "execution_count": null,
   "metadata": {},
   "outputs": [],
   "source": [
    "# | hide\n",
    "import nbdev\n",
    "\n",
    "nbdev.nbdev_export()"
   ]
  }
 ],
 "metadata": {
  "kernelspec": {
   "display_name": "python3",
   "language": "python",
   "name": "python3"
  }
 },
 "nbformat": 4,
 "nbformat_minor": 4
}

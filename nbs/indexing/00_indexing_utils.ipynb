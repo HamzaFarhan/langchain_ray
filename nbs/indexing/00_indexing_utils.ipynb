{
 "cells": [
  {
   "cell_type": "markdown",
   "metadata": {},
   "source": [
    "# Utils\n"
   ]
  },
  {
   "cell_type": "code",
   "execution_count": null,
   "metadata": {},
   "outputs": [],
   "source": [
    "# | default_exp indexing.utils"
   ]
  },
  {
   "cell_type": "code",
   "execution_count": null,
   "metadata": {},
   "outputs": [],
   "source": [
    "# | export\n",
    "\n",
    "from dreamai.imports import *\n",
    "from langchain_ray.imports import *\n",
    "from langchain_ray.utils import *\n",
    "from langchain_ray.chains import *"
   ]
  },
  {
   "cell_type": "code",
   "execution_count": null,
   "metadata": {},
   "outputs": [],
   "source": [
    "#| hide\n",
    "\n",
    "%load_ext autoreload\n",
    "%autoreload 2\n",
    "%reload_ext autoreload"
   ]
  },
  {
   "cell_type": "code",
   "execution_count": null,
   "metadata": {},
   "outputs": [],
   "source": [
    "# | export\n",
    "\n",
    "\n",
    "def index_names(index_folder, index_name):\n",
    "    return [\n",
    "        f.stem for f in Path(index_folder).glob(\"*.faiss\") if f.stem.startswith(index_name)\n",
    "    ]\n",
    "\n",
    "\n",
    "def docs_to_ems(docs, ems_model):\n",
    "    return ems_model.encode([doc.page_content for doc in docs]).tolist()\n",
    "\n",
    "\n",
    "def add_ems_to_docs(docs, ems_model, key=\"embeddings\"):\n",
    "    fn = partial(docs_to_ems, ems_model=ems_model)\n",
    "    return add_docs_metadata(docs, fn, key)\n",
    "\n",
    "\n",
    "def docs_to_faiss(\n",
    "    docs,\n",
    "    ems_model,\n",
    "    index_folder=\"/media/hamza/data2/faiss_data/saved_indexes/\",\n",
    "    index_name=\"index\",\n",
    "):\n",
    "    \"Create a `FAISS` database from `Documents`.\"\n",
    "    db = FAISS.from_documents(flatten_list(docs), ems_model)\n",
    "    # Get an unused index path.\n",
    "    index_path = (Path(index_folder) / index_name).with_suffix(\".faiss\")\n",
    "    if index_path.exists():\n",
    "        index_path = find_alternate_path(index_path, first_idx=1, verbose=False)\n",
    "    # Save the database to the index path.\n",
    "    index_name = index_path.stem\n",
    "    db.save_local(index_folder, index_name)\n",
    "    return docs\n",
    "\n",
    "\n",
    "def search_faiss(index_folder, index_names, query, ems_model, filter=None, k=2):\n",
    "    # print(f\"\\n\\nSearching {index_names} in {index_folder} for {query}!!!\\n\\n\")\n",
    "    if path_or_str(index_folder):\n",
    "        index_folder = [index_folder]\n",
    "    if path_or_str(index_names):\n",
    "        index_names = [index_names]\n",
    "    if path_or_str(query):\n",
    "        query = [query]\n",
    "    if is_iter(k):\n",
    "        k = int(k[0])\n",
    "    q_sims = []\n",
    "    for index_folder, index_name, query in zip(index_folder, index_names, query):\n",
    "        # print(f\"\\n\\nSearching {index_name} in {index_folder} for {query}\\n\\n\")\n",
    "        db = FAISS.load_local(index_folder, embeddings=ems_model, index_name=index_name)\n",
    "        q_sims.append(db.similarity_search_with_score(query, filter=filter, k=k))\n",
    "    # print(f\"\\n\\nQSIMS: {len([q_sims])}, INDEXES: {len(index_names)}\\n\\n\")\n",
    "    return [[q_sims]]"
   ]
  },
  {
   "cell_type": "code",
   "execution_count": null,
   "metadata": {},
   "outputs": [],
   "source": [
    "# | hide\n",
    "import nbdev\n",
    "\n",
    "nbdev.nbdev_export()"
   ]
  }
 ],
 "metadata": {
  "kernelspec": {
   "display_name": "python3",
   "language": "python",
   "name": "python3"
  },
  "language_info": {
   "name": "python",
   "version": "3.10.12"
  }
 },
 "nbformat": 4,
 "nbformat_minor": 4
}
